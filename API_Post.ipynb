{
 "cells": [
  {
   "cell_type": "code",
   "execution_count": 8,
   "metadata": {},
   "outputs": [],
   "source": [
    "import requests\n",
    "import cv2\n",
    "import base64"
   ]
  },
  {
   "cell_type": "code",
   "execution_count": 16,
   "metadata": {},
   "outputs": [
    {
     "name": "stdout",
     "output_type": "stream",
     "text": [
      "{'msg': 'success', 'size': [2687, 3356]}\n"
     ]
    }
   ],
   "source": [
    "filename='President_Barack_Obama.jpg'\n",
    "url = 'http://127.0.0.1:5000/im_size'\n",
    "my_img = {'image': open(filename, 'rb')}\n",
    "r = requests.post(url, files=my_img)\n",
    "\n",
    "# convert server response into JSON format.\n",
    "print(r.json())"
   ]
  }
 ],
 "metadata": {
  "kernelspec": {
   "display_name": "Python 3.9.1 64-bit",
   "language": "python",
   "name": "python3"
  },
  "language_info": {
   "codemirror_mode": {
    "name": "ipython",
    "version": 3
   },
   "file_extension": ".py",
   "mimetype": "text/x-python",
   "name": "python",
   "nbconvert_exporter": "python",
   "pygments_lexer": "ipython3",
   "version": "3.9.1"
  },
  "orig_nbformat": 4,
  "vscode": {
   "interpreter": {
    "hash": "99bd28f23d3a932d4c21d1727a7476e1735c4bdbac0e5eb75caa6ee662580728"
   }
  }
 },
 "nbformat": 4,
 "nbformat_minor": 2
}
